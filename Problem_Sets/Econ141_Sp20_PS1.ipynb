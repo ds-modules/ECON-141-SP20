{
 "cells": [
  {
   "cell_type": "markdown",
   "metadata": {},
   "source": [
    "# Econ 141  - Spring 2019\n",
    "\n",
    "## Bryan Graham\n",
    "### GSI Kevin Dano\n",
    "\n",
    "## Problem Set 1 -  Due February 7th, 2020\n",
    "\n",
    "Problem sets are due at 5PM in the GSIs mailbox. You may work in groups,\n",
    "but each student should turn in their own write-up (including a narrated/commented\n",
    "and executed Jupyter Notebook). Please use markdown boxes within your\n",
    "Jupyter notebook for narrative answers to the questions below."
   ]
  },
  {
   "cell_type": "markdown",
   "metadata": {},
   "source": [
    "# 1  The distribution of total factor productivity"
   ]
  },
  {
   "cell_type": "markdown",
   "metadata": {},
   "source": [
    "The file `semiconductor_firms.ou` contains several thousand firm-by-year observations for a sample of publicly traded semiconductor firms (NAICS 4-digit code 3344) drawn from the S&P Capital IQ - Compustat database. The following firm attributes, measured from 1998 to 2014 inclusive, are included:\n",
    "\n",
    "`gvkey` - Compustat firm identification code\n",
    "\n",
    "`conm` - firm name\n",
    "\n",
    "`year` - calendar year\n",
    "\n",
    "`Y` - total real sales by the firm (in millions of 2009 US\\$)\n",
    "\n",
    "`K` - capital stock (in millions of 2009 US\\$)\n",
    "\n",
    "`L` - employees (in thousands)\n",
    "\n",
    "`M` - materials expenditures (in millions of 2009 US\\$)\n",
    "\n",
    "`VA` - total real valued added by the firm (in millions of 2009 US\\$)\n",
    "\n",
    "`w` - annual wage rate (in 2009 US\\$)\n",
    "\n",
    "`i` - real investment (in millions of 2009 US\\$)\n",
    "\n",
    "`naics_4digits` - NAICS four digit sector code for the firm\n",
    "\n",
    "In this problem set you will use this dataset to study the distribution of productivity across firms. A nice introduction to economic research in this area is provided by Syverson (2011)."
   ]
  },
  {
   "cell_type": "markdown",
   "metadata": {},
   "source": [
    "## Preparing and exploring the dataset\n",
    "\n",
    "1. How many firm-year observations are in the dataset?"
   ]
  },
  {
   "cell_type": "code",
   "execution_count": 1,
   "metadata": {},
   "outputs": [
    {
     "data": {
      "text/html": [
       "<div>\n",
       "<style scoped>\n",
       "    .dataframe tbody tr th:only-of-type {\n",
       "        vertical-align: middle;\n",
       "    }\n",
       "\n",
       "    .dataframe tbody tr th {\n",
       "        vertical-align: top;\n",
       "    }\n",
       "\n",
       "    .dataframe thead th {\n",
       "        text-align: right;\n",
       "    }\n",
       "</style>\n",
       "<table border=\"1\" class=\"dataframe\">\n",
       "  <thead>\n",
       "    <tr style=\"text-align: right;\">\n",
       "      <th></th>\n",
       "      <th>gvkey</th>\n",
       "      <th>year</th>\n",
       "      <th>gvkey.1</th>\n",
       "      <th>conm</th>\n",
       "      <th>year.1</th>\n",
       "      <th>Y</th>\n",
       "      <th>K</th>\n",
       "      <th>L</th>\n",
       "      <th>M</th>\n",
       "      <th>VA</th>\n",
       "      <th>w</th>\n",
       "      <th>i</th>\n",
       "      <th>naics_4digit</th>\n",
       "    </tr>\n",
       "  </thead>\n",
       "  <tbody>\n",
       "    <tr>\n",
       "      <th>0</th>\n",
       "      <td>1056</td>\n",
       "      <td>1999</td>\n",
       "      <td>1056</td>\n",
       "      <td>AEROFLEX INC</td>\n",
       "      <td>1999</td>\n",
       "      <td>92.727756</td>\n",
       "      <td>51.519396</td>\n",
       "      <td>1.10</td>\n",
       "      <td>50.190881</td>\n",
       "      <td>42.536875</td>\n",
       "      <td>23840.047219</td>\n",
       "      <td>10.488479</td>\n",
       "      <td>3344</td>\n",
       "    </tr>\n",
       "    <tr>\n",
       "      <th>1</th>\n",
       "      <td>1056</td>\n",
       "      <td>2000</td>\n",
       "      <td>1056</td>\n",
       "      <td>AEROFLEX INC</td>\n",
       "      <td>2000</td>\n",
       "      <td>122.685671</td>\n",
       "      <td>106.644832</td>\n",
       "      <td>1.18</td>\n",
       "      <td>68.554502</td>\n",
       "      <td>54.131169</td>\n",
       "      <td>28345.375961</td>\n",
       "      <td>8.175873</td>\n",
       "      <td>3344</td>\n",
       "    </tr>\n",
       "    <tr>\n",
       "      <th>2</th>\n",
       "      <td>1056</td>\n",
       "      <td>2001</td>\n",
       "      <td>1056</td>\n",
       "      <td>AEROFLEX INC</td>\n",
       "      <td>2001</td>\n",
       "      <td>172.101069</td>\n",
       "      <td>111.645297</td>\n",
       "      <td>1.25</td>\n",
       "      <td>99.452777</td>\n",
       "      <td>72.648292</td>\n",
       "      <td>31764.418883</td>\n",
       "      <td>15.032798</td>\n",
       "      <td>3344</td>\n",
       "    </tr>\n",
       "    <tr>\n",
       "      <th>3</th>\n",
       "      <td>1056</td>\n",
       "      <td>2002</td>\n",
       "      <td>1056</td>\n",
       "      <td>AEROFLEX INC</td>\n",
       "      <td>2002</td>\n",
       "      <td>156.510389</td>\n",
       "      <td>128.098419</td>\n",
       "      <td>2.03</td>\n",
       "      <td>72.158871</td>\n",
       "      <td>84.351518</td>\n",
       "      <td>34059.627713</td>\n",
       "      <td>6.828937</td>\n",
       "      <td>3344</td>\n",
       "    </tr>\n",
       "    <tr>\n",
       "      <th>4</th>\n",
       "      <td>1056</td>\n",
       "      <td>2003</td>\n",
       "      <td>1056</td>\n",
       "      <td>AEROFLEX INC</td>\n",
       "      <td>2003</td>\n",
       "      <td>237.229156</td>\n",
       "      <td>146.030959</td>\n",
       "      <td>1.86</td>\n",
       "      <td>143.830432</td>\n",
       "      <td>93.398724</td>\n",
       "      <td>37331.598845</td>\n",
       "      <td>7.077533</td>\n",
       "      <td>3344</td>\n",
       "    </tr>\n",
       "  </tbody>\n",
       "</table>\n",
       "</div>"
      ],
      "text/plain": [
       "   gvkey  year  gvkey.1          conm  year.1           Y           K     L  \\\n",
       "0   1056  1999     1056  AEROFLEX INC    1999   92.727756   51.519396  1.10   \n",
       "1   1056  2000     1056  AEROFLEX INC    2000  122.685671  106.644832  1.18   \n",
       "2   1056  2001     1056  AEROFLEX INC    2001  172.101069  111.645297  1.25   \n",
       "3   1056  2002     1056  AEROFLEX INC    2002  156.510389  128.098419  2.03   \n",
       "4   1056  2003     1056  AEROFLEX INC    2003  237.229156  146.030959  1.86   \n",
       "\n",
       "            M         VA             w          i  naics_4digit  \n",
       "0   50.190881  42.536875  23840.047219  10.488479          3344  \n",
       "1   68.554502  54.131169  28345.375961   8.175873          3344  \n",
       "2   99.452777  72.648292  31764.418883  15.032798          3344  \n",
       "3   72.158871  84.351518  34059.627713   6.828937          3344  \n",
       "4  143.830432  93.398724  37331.598845   7.077533          3344  "
      ]
     },
     "execution_count": 1,
     "metadata": {},
     "output_type": "execute_result"
    }
   ],
   "source": [
    "import pandas as pd\n",
    "\n",
    "scf = pd.read_csv(\"https://raw.githubusercontent.com/bryangraham/Ec_141/master/Spring2020/Problem_Sets/semiconductor_firms.out\",sep='\\t', encoding='utf-8')\n",
    "scf.set_index(['gvkey','year'], drop=False) #Set gvkey & year as indices\n",
    "scf.head()"
   ]
  },
  {
   "cell_type": "markdown",
   "metadata": {},
   "source": [
    "2. How many distinct firms are in the dataset?"
   ]
  },
  {
   "cell_type": "code",
   "execution_count": null,
   "metadata": {},
   "outputs": [],
   "source": []
  },
  {
   "cell_type": "markdown",
   "metadata": {},
   "source": [
    "3. In 2014 what was the aggregate total sales across all semiconductor firms in the dataset?"
   ]
  },
  {
   "cell_type": "code",
   "execution_count": null,
   "metadata": {},
   "outputs": [],
   "source": []
  },
  {
   "cell_type": "markdown",
   "metadata": {},
   "source": [
    "4. How many employees did these firms employ in total?"
   ]
  },
  {
   "cell_type": "code",
   "execution_count": null,
   "metadata": {},
   "outputs": [],
   "source": []
  },
  {
   "cell_type": "markdown",
   "metadata": {},
   "source": [
    "5. In 2014 compute the average, standard deviation and 5th, 25th, 50th, 75th and 95th percentiles of total sales, capital stock, employees, materials, and investment across all firms in your dataset. Display this information in an easy-to-read table."
   ]
  },
  {
   "cell_type": "code",
   "execution_count": null,
   "metadata": {},
   "outputs": [],
   "source": []
  },
  {
   "cell_type": "markdown",
   "metadata": {},
   "source": [
    "6. Write a few sentences summarizing your dataset."
   ]
  },
  {
   "cell_type": "markdown",
   "metadata": {},
   "source": [
    "*Answer here*:"
   ]
  },
  {
   "cell_type": "markdown",
   "metadata": {},
   "source": [
    "## Profit maximization\n",
    "\n",
    "Assume that in each period t output, $Y_t$, is produced using capital, $K_t$, labor, $L_t$, and materials, $M_t$, according to the production technology\n",
    "\n",
    "$$ \n",
    "    Y_t = A_t K_t^{1-\\alpha-\\beta}L_{t}^{\\alpha}M_t^{\\beta} \n",
    "$$\n",
    "\n",
    "where $A_t$ is a factor neutral shifter or *total factor productivity*. Let $R_t$ and $W_t$ be the prevailing rental rate for capital and wage rate for labor. Assume that firms maximize profits – taking their output price, $P_t$, as fixed (i.e., perfect competition):\n",
    "\n",
    "$$\n",
    "    max_{k_t,l_t,m_t} PA_{t}k_{t}^{1-\\alpha-\\beta}l_{t}^{\\alpha}m_{t}^{\\beta}-R_{t}k_{t}-W_{t}l_t-m_t.\n",
    "$$\n",
    "\n",
    "Let $K_t$, $L_t$ and $M_t$ denote the profit-maximizing input choices made by the firm. Show that the firm’s first order conditions for labor and materials imply that\n",
    "\n",
    "$$ \n",
    "    \\alpha = \\frac{W_{t}L_t}{Y_t}, \\beta = \\frac{M_t}{Y_t} \n",
    "$$"
   ]
  },
  {
   "cell_type": "markdown",
   "metadata": {},
   "source": [
    "*Answer here*:"
   ]
  },
  {
   "cell_type": "markdown",
   "metadata": {},
   "source": [
    "## Measuring productivity\n",
    "\n",
    "Note that `Y`in the dataset corresponds to $P_{t}Y_t$ in the theoretical model; our theory is about physical units of output, $Y_{t}$, but what we observe in the financial filings of firms is generally total sales, $P_{t}Y_{t}$. It is this latter quantity which is recorded as `Y` in the dataset. This discrepancy between data and theory has numerous implications which we will gloss over for the time being, but return to later in the course.\n",
    "\n",
    "1. Construct a measure of the firm’s wage bill each period, $W_tL_t$, using the formula \n",
    "\n",
    "$$\n",
    "    \\text{wage bill} = \\frac{(L \\times 1000)\\times w}{1,000,000}\n",
    "$$ \n",
    "\n",
    "Explain the reasoning underlying this formula."
   ]
  },
  {
   "cell_type": "markdown",
   "metadata": {},
   "source": [
    "*Answer here*:"
   ]
  },
  {
   "cell_type": "markdown",
   "metadata": {},
   "source": [
    "2. Let $i$ index firms and $t$ years. Consider the following estimate of firm $i$’s elasticity of output with respect to labor:\n",
    "\n",
    "$$ \n",
    "    \\widehat{\\alpha}_{i} = \\frac{1}{T_i} \\sum_t \\frac{\\text{wage bill}_{it}}{Y_{it}} \n",
    "$$\n",
    "\n",
    "where the summation is over all years firm $i$ is in the dataset and $T_i$ denotes the total number of years firm $i$  is in the dataset. Similarly estimate firm $i$’s elasticity of output with respect to materials as:\n",
    "\n",
    "$$\n",
    "    \\widehat{\\beta}_{i} = \\frac{1}{T_i} \\sum_t \\frac{M_{it}}{Y_{it}}\n",
    "$$\n",
    "\n",
    "Explain the reasoning underlying these elasticity measures.\n"
   ]
  },
  {
   "cell_type": "markdown",
   "metadata": {},
   "source": [
    "*Answer here*:"
   ]
  },
  {
   "cell_type": "markdown",
   "metadata": {},
   "source": [
    "3. Compute the average, standard deviation and 5th, 25th, 50th, 75th and 95th percentiles of $\\widehat{\\alpha}_{i}$ and $\\widehat{\\beta}_{i}$ across all firms in your dataset. Display this information in a table."
   ]
  },
  {
   "cell_type": "markdown",
   "metadata": {},
   "source": [
    "*Answer here*:"
   ]
  },
  {
   "cell_type": "markdown",
   "metadata": {},
   "source": [
    "4. Let $\\widehat{\\alpha}$ and $\\widehat{\\beta}$ be the median firm-specific elasticity estimates. Compute these."
   ]
  },
  {
   "cell_type": "markdown",
   "metadata": {},
   "source": [
    "*Answer here*:"
   ]
  },
  {
   "cell_type": "markdown",
   "metadata": {},
   "source": [
    "5. Construct the following measure of productivity for each firm-year in your dataset:\n",
    "\n",
    "$$\n",
    "    TFPR_{it} = \\frac{Y_{it}}{K_{it}^{1-\\widehat{\\alpha}-\\widehat{\\beta}}L_{it}^{\\widehat{\\alpha}}M_{it}^{\\widehat{\\beta}}}\n",
    "$$\n",
    "\n",
    "How does this measure relate to $A_{it}$ – total factor productivity – as defined in the\n",
    "theoretical model?"
   ]
  },
  {
   "cell_type": "markdown",
   "metadata": {},
   "source": [
    "*Answer here*:"
   ]
  },
  {
   "cell_type": "markdown",
   "metadata": {},
   "source": [
    "6. In 2014 compute the average, standard deviation and 5th, 25th, 50th, 75th and 95th percentiles of $TFPR_{it}$ across all firms in your dataset. Display this information in a table. Are the productivity differences across firms larger or smaller than you expected?"
   ]
  },
  {
   "cell_type": "markdown",
   "metadata": {},
   "source": [
    "*Answer here*:"
   ]
  },
  {
   "cell_type": "markdown",
   "metadata": {},
   "source": [
    "## Productivity decomposition\n",
    "\n",
    "1.  Let $S_t = Y_t / \\mathbb{E} [Y_t]$ and show that\n",
    "\n",
    "$$\n",
    "\\begin{aligned}\n",
    "    \\mathbb{E} [S_tA_t] &= \\mathbb{E} [S_t]\\mathbb{E} [A_t]+\\mathbb{C}(S_t,A_t) \\\\\n",
    "    &= \\mathbb{E} [A_t] + \\left[\\frac{\\mathbb{C}(S_t,A_t)}{\\mathbb{V}(A_t)}\\right]\\mathbb{V}(A_t) \\\\\n",
    "    &= \\mathbb{E} [A_t] + \\rho_t \\mathbb{V}(A_t)\n",
    "\\end{aligned}\n",
    "$$\n",
    "\n",
    "Discuss how this expression might be used to understand industry-level change in\n",
    " productivity over time."
   ]
  },
  {
   "cell_type": "markdown",
   "metadata": {},
   "source": [
    "*Answer here*:"
   ]
  },
  {
   "cell_type": "markdown",
   "metadata": {},
   "source": [
    "2. Equate $A_t$ with $TFPR_{it}$ and $S_i$ with $Y_{it}/\\frac{1}{n} \\sum_{i=1}^{N} \\sum_{t=1}^{T_i} Y_{it}$; here $n$ equals the total number of firm-year observations in the dataset. Compute the sample analogs of $\\mathbb{E} [A_t]$, $\\rho_t$ and\n",
    "$\\mathbb{V}(A_t)$ for each year from 1998 to 2014."
   ]
  },
  {
   "cell_type": "markdown",
   "metadata": {},
   "source": [
    "*Answer here*:"
   ]
  },
  {
   "cell_type": "markdown",
   "metadata": {},
   "source": [
    "3. Use your calculations above to discuss the evolution of productivity in the semi-\n",
    "conductor industry from 1998 to 2014. Support your answer with plots and/or tables."
   ]
  },
  {
   "cell_type": "markdown",
   "metadata": {},
   "source": [
    "*Answer here*: "
   ]
  }
 ],
 "metadata": {
  "kernelspec": {
   "display_name": "Python 3",
   "language": "python",
   "name": "python3"
  },
  "language_info": {
   "codemirror_mode": {
    "name": "ipython",
    "version": 3
   },
   "file_extension": ".py",
   "mimetype": "text/x-python",
   "name": "python",
   "nbconvert_exporter": "python",
   "pygments_lexer": "ipython3",
   "version": "3.6.9"
  }
 },
 "nbformat": 4,
 "nbformat_minor": 4
}
