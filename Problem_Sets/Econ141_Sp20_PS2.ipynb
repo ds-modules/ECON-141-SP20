{
 "cells": [
  {
   "cell_type": "markdown",
   "metadata": {},
   "source": [
    "### Ec141, Spring 2020\n",
    "## Bryan Graham\n",
    "\n",
    "### Problem Set 2\n",
    "### Due: February 28th, 2019\n",
    "\n",
    "Problem sets are due at 5PM in the GSI's mailbox. You may work in groups, but each student should turn in their own write-up (including a narrated/commented and executed Jupyter Notebook). Please use markdown boxes within your Jupyter Notebook for narrative answers to the questions below."
   ]
  },
  {
   "cell_type": "markdown",
   "metadata": {},
   "source": [
    "## 1   Frisch-Waugh Theorem and Residual Regression\n",
    "Consider the long linear regression\n",
    "\n",
    "$$\n",
    "\\mathbb{E}^*[Y|X,W]=X^{\\prime}\\beta_0+W^{\\prime}\\gamma_0\n",
    "$$\n",
    "\n",
    "with $X$ a $K\\times 1$ vector (which includes a constant) and $W$ a $J\\times 1$ vector (*which does not* include a constant). We also have the short linear regression\n",
    "\n",
    "$$\n",
    "\\mathbb{E}^*[Y|X]=X^{\\prime}b_0\n",
    "$$\n",
    "\n",
    "as well as the auxiliary (multivariate regression):\n",
    "\n",
    "$$\n",
    "\\mathbb{E}^*[W|X]=\\Pi_0 X\n",
    "$$\n"
   ]
  },
  {
   "cell_type": "markdown",
   "metadata": {},
   "source": [
    "1. Construct the $J\\times 1$ residual vector:\n",
    "\n",
    "$$\n",
    "V=W-\\Pi_0 X\n",
    "$$\n",
    "\n",
    "and show that \n",
    "\n",
    "$$\\mathbb{E}^*[Y|X,V]=\\mathbb{E}^*[Y|X]+\\mathbb{E}^*[Y|V]-\\mathbb{E}[Y].\n",
    "$$\n",
    "\n",
    "Interpret your result [10 Sentences]."
   ]
  },
  {
   "cell_type": "markdown",
   "metadata": {},
   "source": [
    "Answer here:"
   ]
  },
  {
   "cell_type": "markdown",
   "metadata": {},
   "source": [
    "2. Let $\\mathbb{E}^*[Y|V]=V^{\\prime}\\eta_0$ and show that\n",
    "\n",
    "$$\n",
    "\\mathbb{E}^*[Y|X,W]=X^{\\prime}b_0+V^{\\prime}\\gamma_0\n",
    "$$\n",
    "\n",
    "and hence that $\\gamma_0=\\eta_0$. Interpret your result [10 sentences]."
   ]
  },
  {
   "cell_type": "markdown",
   "metadata": {},
   "source": [
    "Answer here:"
   ]
  },
  {
   "cell_type": "markdown",
   "metadata": {},
   "source": [
    "## Linear Regression\n",
    "This question uses the comma delimited dataset **nlsy79extract.csv**. "
   ]
  },
  {
   "cell_type": "markdown",
   "metadata": {},
   "source": [
    "1. Load the dataset into a pandas dataframe called **nlsy79**. Use **HHID_79** and **PID_79** as the multi-indices for the dataframe."
   ]
  },
  {
   "cell_type": "code",
   "execution_count": 2,
   "metadata": {},
   "outputs": [
    {
     "data": {
      "text/html": [
       "<div>\n",
       "<style scoped>\n",
       "    .dataframe tbody tr th:only-of-type {\n",
       "        vertical-align: middle;\n",
       "    }\n",
       "\n",
       "    .dataframe tbody tr th {\n",
       "        vertical-align: top;\n",
       "    }\n",
       "\n",
       "    .dataframe thead th {\n",
       "        text-align: right;\n",
       "    }\n",
       "</style>\n",
       "<table border=\"1\" class=\"dataframe\">\n",
       "  <thead>\n",
       "    <tr style=\"text-align: right;\">\n",
       "      <th></th>\n",
       "      <th>PID_79</th>\n",
       "      <th>HHID_79</th>\n",
       "      <th>core_sample</th>\n",
       "      <th>sample_wgts</th>\n",
       "      <th>month_born</th>\n",
       "      <th>year_born</th>\n",
       "      <th>live_with_mom_at_14</th>\n",
       "      <th>live_with_dad_at_14</th>\n",
       "      <th>single_mom_at_14</th>\n",
       "      <th>usborn</th>\n",
       "      <th>...</th>\n",
       "      <th>weeks_worked_2001</th>\n",
       "      <th>weeks_worked_2003</th>\n",
       "      <th>weeks_worked_2005</th>\n",
       "      <th>weeks_worked_2007</th>\n",
       "      <th>weeks_worked_2009</th>\n",
       "      <th>weeks_worked_2011</th>\n",
       "      <th>NORTH_EAST_79</th>\n",
       "      <th>NORTH_CENTRAL_79</th>\n",
       "      <th>SOUTH_79</th>\n",
       "      <th>WEST_79</th>\n",
       "    </tr>\n",
       "  </thead>\n",
       "  <tbody>\n",
       "    <tr>\n",
       "      <th>0</th>\n",
       "      <td>1</td>\n",
       "      <td>1</td>\n",
       "      <td>1</td>\n",
       "      <td>602156.31</td>\n",
       "      <td>9</td>\n",
       "      <td>58</td>\n",
       "      <td>1.0</td>\n",
       "      <td>1.0</td>\n",
       "      <td>0.0</td>\n",
       "      <td>1.0</td>\n",
       "      <td>...</td>\n",
       "      <td>NaN</td>\n",
       "      <td>NaN</td>\n",
       "      <td>NaN</td>\n",
       "      <td>NaN</td>\n",
       "      <td>NaN</td>\n",
       "      <td>NaN</td>\n",
       "      <td>1.0</td>\n",
       "      <td>0.0</td>\n",
       "      <td>0.0</td>\n",
       "      <td>0.0</td>\n",
       "    </tr>\n",
       "    <tr>\n",
       "      <th>1</th>\n",
       "      <td>2</td>\n",
       "      <td>2</td>\n",
       "      <td>1</td>\n",
       "      <td>816100.38</td>\n",
       "      <td>1</td>\n",
       "      <td>59</td>\n",
       "      <td>1.0</td>\n",
       "      <td>1.0</td>\n",
       "      <td>0.0</td>\n",
       "      <td>0.0</td>\n",
       "      <td>...</td>\n",
       "      <td>0.0</td>\n",
       "      <td>18.0</td>\n",
       "      <td>52.0</td>\n",
       "      <td>52.0</td>\n",
       "      <td>52.0</td>\n",
       "      <td>52.0</td>\n",
       "      <td>1.0</td>\n",
       "      <td>0.0</td>\n",
       "      <td>0.0</td>\n",
       "      <td>0.0</td>\n",
       "    </tr>\n",
       "    <tr>\n",
       "      <th>2</th>\n",
       "      <td>3</td>\n",
       "      <td>3</td>\n",
       "      <td>1</td>\n",
       "      <td>572996.38</td>\n",
       "      <td>8</td>\n",
       "      <td>61</td>\n",
       "      <td>1.0</td>\n",
       "      <td>0.0</td>\n",
       "      <td>0.0</td>\n",
       "      <td>1.0</td>\n",
       "      <td>...</td>\n",
       "      <td>0.0</td>\n",
       "      <td>NaN</td>\n",
       "      <td>43.0</td>\n",
       "      <td>0.0</td>\n",
       "      <td>NaN</td>\n",
       "      <td>52.0</td>\n",
       "      <td>1.0</td>\n",
       "      <td>0.0</td>\n",
       "      <td>0.0</td>\n",
       "      <td>0.0</td>\n",
       "    </tr>\n",
       "    <tr>\n",
       "      <th>3</th>\n",
       "      <td>4</td>\n",
       "      <td>3</td>\n",
       "      <td>1</td>\n",
       "      <td>604567.88</td>\n",
       "      <td>8</td>\n",
       "      <td>62</td>\n",
       "      <td>1.0</td>\n",
       "      <td>0.0</td>\n",
       "      <td>0.0</td>\n",
       "      <td>1.0</td>\n",
       "      <td>...</td>\n",
       "      <td>NaN</td>\n",
       "      <td>NaN</td>\n",
       "      <td>NaN</td>\n",
       "      <td>NaN</td>\n",
       "      <td>NaN</td>\n",
       "      <td>NaN</td>\n",
       "      <td>1.0</td>\n",
       "      <td>0.0</td>\n",
       "      <td>0.0</td>\n",
       "      <td>0.0</td>\n",
       "    </tr>\n",
       "    <tr>\n",
       "      <th>4</th>\n",
       "      <td>5</td>\n",
       "      <td>5</td>\n",
       "      <td>1</td>\n",
       "      <td>764753.00</td>\n",
       "      <td>7</td>\n",
       "      <td>59</td>\n",
       "      <td>1.0</td>\n",
       "      <td>1.0</td>\n",
       "      <td>0.0</td>\n",
       "      <td>1.0</td>\n",
       "      <td>...</td>\n",
       "      <td>NaN</td>\n",
       "      <td>NaN</td>\n",
       "      <td>NaN</td>\n",
       "      <td>NaN</td>\n",
       "      <td>NaN</td>\n",
       "      <td>NaN</td>\n",
       "      <td>1.0</td>\n",
       "      <td>0.0</td>\n",
       "      <td>0.0</td>\n",
       "      <td>0.0</td>\n",
       "    </tr>\n",
       "  </tbody>\n",
       "</table>\n",
       "<p>5 rows × 75 columns</p>\n",
       "</div>"
      ],
      "text/plain": [
       "   PID_79  HHID_79  core_sample  sample_wgts  month_born  year_born  \\\n",
       "0       1        1            1    602156.31           9         58   \n",
       "1       2        2            1    816100.38           1         59   \n",
       "2       3        3            1    572996.38           8         61   \n",
       "3       4        3            1    604567.88           8         62   \n",
       "4       5        5            1    764753.00           7         59   \n",
       "\n",
       "   live_with_mom_at_14  live_with_dad_at_14  single_mom_at_14  usborn  \\\n",
       "0                  1.0                  1.0               0.0     1.0   \n",
       "1                  1.0                  1.0               0.0     0.0   \n",
       "2                  1.0                  0.0               0.0     1.0   \n",
       "3                  1.0                  0.0               0.0     1.0   \n",
       "4                  1.0                  1.0               0.0     1.0   \n",
       "\n",
       "    ...     weeks_worked_2001  weeks_worked_2003  weeks_worked_2005  \\\n",
       "0   ...                   NaN                NaN                NaN   \n",
       "1   ...                   0.0               18.0               52.0   \n",
       "2   ...                   0.0                NaN               43.0   \n",
       "3   ...                   NaN                NaN                NaN   \n",
       "4   ...                   NaN                NaN                NaN   \n",
       "\n",
       "   weeks_worked_2007  weeks_worked_2009  weeks_worked_2011  NORTH_EAST_79  \\\n",
       "0                NaN                NaN                NaN            1.0   \n",
       "1               52.0               52.0               52.0            1.0   \n",
       "2                0.0                NaN               52.0            1.0   \n",
       "3                NaN                NaN                NaN            1.0   \n",
       "4                NaN                NaN                NaN            1.0   \n",
       "\n",
       "   NORTH_CENTRAL_79  SOUTH_79  WEST_79  \n",
       "0               0.0       0.0      0.0  \n",
       "1               0.0       0.0      0.0  \n",
       "2               0.0       0.0      0.0  \n",
       "3               0.0       0.0      0.0  \n",
       "4               0.0       0.0      0.0  \n",
       "\n",
       "[5 rows x 75 columns]"
      ]
     },
     "execution_count": 2,
     "metadata": {},
     "output_type": "execute_result"
    }
   ],
   "source": [
    "import pandas as pd\n",
    "nlsy79=pd.read_csv(\"https://raw.githubusercontent.com/bryangraham/Ec_141/master/Spring2020/Problem_Sets/nlsy79extract.csv\")\n",
    "\n",
    "# Rows are indexed by househould id (HHID_79) first, and then within households, by person id (PID_79).\n",
    "nlsy79.set_index(['HHID_79','PID_79'], drop=False)\n",
    "nlsy79.head()\n",
    "\n",
    "#Rename HGC_FATH79r and HGC_MOTH79r in anticipation of question 5\n",
    "nlsy79.rename(columns = {'HGC_FATH79r':'HGC_Fath79','HGC_MOTH79r':'HGC_Moth79'},inplace=True);\n",
    "nlsy79.head()"
   ]
  },
  {
   "cell_type": "markdown",
   "metadata": {},
   "source": [
    "2. Drop any cases where **core_sample** equals zero."
   ]
  },
  {
   "cell_type": "code",
   "execution_count": null,
   "metadata": {},
   "outputs": [],
   "source": []
  },
  {
   "cell_type": "markdown",
   "metadata": {},
   "source": [
    "3. Drop any cases where **male** equals zero."
   ]
  },
  {
   "cell_type": "code",
   "execution_count": null,
   "metadata": {},
   "outputs": [],
   "source": []
  },
  {
   "cell_type": "markdown",
   "metadata": {},
   "source": [
    "4. Create a variable called **earnings_in_2000** which is the average of **real_earnings_1997**, **real_earnings_1999**,  **real_earnings_2001**, **real_earnings_2003**. When computing this variable average over all non-missing values; for example if earnings is observed in just two of the four years listed above, average over the two years it is observed."
   ]
  },
  {
   "cell_type": "code",
   "execution_count": null,
   "metadata": {},
   "outputs": [],
   "source": []
  },
  {
   "cell_type": "markdown",
   "metadata": {},
   "source": [
    "5. Drop all variables except **HGC_Age28**, **live_with_mom_at_14**, **live_with_dad_at_14**, **usborn**, **hispanic**, **black**, **AFQT**, **HGC_Fath79**, **HGC_Moth79**, and **earnings_in_2000**."
   ]
  },
  {
   "cell_type": "code",
   "execution_count": null,
   "metadata": {},
   "outputs": [],
   "source": []
  },
  {
   "cell_type": "markdown",
   "metadata": {},
   "source": [
    "6. Finally retain only complete cases (you can use \"dropna()\" for this)."
   ]
  },
  {
   "cell_type": "code",
   "execution_count": null,
   "metadata": {},
   "outputs": [],
   "source": []
  },
  {
   "cell_type": "markdown",
   "metadata": {},
   "source": [
    "7. Those units that remain constitute your estimation sample. Use \"describe()\" to print out some basic summary statistics for your estimation sample. Write a short paragraph about your dataset."
   ]
  },
  {
   "cell_type": "code",
   "execution_count": null,
   "metadata": {},
   "outputs": [],
   "source": []
  },
  {
   "cell_type": "markdown",
   "metadata": {},
   "source": [
    "Define **LogEarn** to be the natural logarithm of **earnings_in_2000**."
   ]
  },
  {
   "cell_type": "markdown",
   "metadata": {},
   "source": [
    "1. Compute the least squares fit of **LogEarn** onto a constant and **HGC_Age28**. You may use Python's StatsModels OLS implementation for computation and standard error construction."
   ]
  },
  {
   "cell_type": "code",
   "execution_count": null,
   "metadata": {},
   "outputs": [],
   "source": []
  },
  {
   "cell_type": "markdown",
   "metadata": {},
   "source": [
    "2. Estimate the parameters of the following linear regression model by the method of least squares\n",
    "\n",
    "$$\n",
    "\\mathbb{E}^*[\\text{LogEarn}|X]=\\alpha_0+\\beta_0 \\text{HGC_Age28} + \\gamma_0 \\text{HGC_Age28}\\times (\\text{AFQT}-50)+\\delta_0 \\text{AFQT}\n",
    "$$\n",
    "\n",
    "where $X = (\\text{HGC_Age28}, \\text{HGC_Age28}\\times(\\text{AFQT}-50), \\text{AFQT})^{\\prime}.$"
   ]
  },
  {
   "cell_type": "code",
   "execution_count": null,
   "metadata": {},
   "outputs": [],
   "source": []
  },
  {
   "cell_type": "markdown",
   "metadata": {},
   "source": [
    "(a) Plot your estimate of $\\beta_0+\\gamma_0(\\text{AFQT}-50)$ as a function of **AFQT** (for **AFQT** from zero to one hundred)."
   ]
  },
  {
   "cell_type": "code",
   "execution_count": null,
   "metadata": {},
   "outputs": [],
   "source": []
  },
  {
   "cell_type": "markdown",
   "metadata": {},
   "source": [
    "(b) Construct an asymptotic point-wise confidence band for $\\beta_0+\\gamma_0(\\text{AFQT}-50)$ and plot it on the same figure."
   ]
  },
  {
   "cell_type": "code",
   "execution_count": null,
   "metadata": {},
   "outputs": [],
   "source": []
  },
  {
   "cell_type": "markdown",
   "metadata": {},
   "source": [
    "(c) Interpret $\\beta_0$ and discuss your estimates of them."
   ]
  },
  {
   "cell_type": "code",
   "execution_count": null,
   "metadata": {},
   "outputs": [],
   "source": []
  },
  {
   "cell_type": "markdown",
   "metadata": {},
   "source": [
    "3. Additionally condition on **live_with_mom_at_14**, **live_with_dad_at_14**, **usborn**, **hispanic**, **black**, **HGC_Fath79**, and **HGC_Moth79**. Do the estimated coefficients on **HGC_Age28** and interaction with **AFQT** change? Explain."
   ]
  },
  {
   "cell_type": "code",
   "execution_count": null,
   "metadata": {},
   "outputs": [],
   "source": []
  }
 ],
 "metadata": {
  "kernelspec": {
   "display_name": "Python 3",
   "language": "python",
   "name": "python3"
  },
  "language_info": {
   "codemirror_mode": {
    "name": "ipython",
    "version": 3
   },
   "file_extension": ".py",
   "mimetype": "text/x-python",
   "name": "python",
   "nbconvert_exporter": "python",
   "pygments_lexer": "ipython3",
   "version": "3.6.9"
  }
 },
 "nbformat": 4,
 "nbformat_minor": 2
}
